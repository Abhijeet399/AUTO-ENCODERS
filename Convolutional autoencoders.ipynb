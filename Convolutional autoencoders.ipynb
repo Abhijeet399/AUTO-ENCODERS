{
 "cells": [
  {
   "cell_type": "markdown",
   "metadata": {},
   "source": [
    "# Convolutional autoencoders"
   ]
  },
  {
   "cell_type": "code",
   "execution_count": 13,
   "metadata": {},
   "outputs": [],
   "source": [
    "import tensorflow as tf\n",
    "import numpy as np\n",
    "from tensorflow.examples.tutorials.mnist import input_data\n",
    "import matplotlib.pyplot as plt\n",
    "import math\n",
    "#matplotlib inline"
   ]
  },
  {
   "cell_type": "code",
   "execution_count": 14,
   "metadata": {},
   "outputs": [
    {
     "name": "stdout",
     "output_type": "stream",
     "text": [
      "Extracting MNIST_data/train-images-idx3-ubyte.gz\n",
      "Extracting MNIST_data/train-labels-idx1-ubyte.gz\n",
      "Extracting MNIST_data/t10k-images-idx3-ubyte.gz\n",
      "Extracting MNIST_data/t10k-labels-idx1-ubyte.gz\n"
     ]
    }
   ],
   "source": [
    "mnist = input_data.read_data_sets(\"MNIST_data/\")\n",
    "trX, trY, teX, teY = mnist.train.images, mnist.train.labels, mnist.test.images, mnist.test.labels"
   ]
  },
  {
   "cell_type": "code",
   "execution_count": 15,
   "metadata": {},
   "outputs": [],
   "source": [
    "# Network Parameters\n",
    "h_in, w_in = 28, 28 # Image size height and width\n",
    "k = 3 # Kernel size\n",
    "p = 2 # pool\n",
    "s = 2 # Strides in maxpool\n",
    "filters = {1:32,2:32,3:16}"
   ]
  },
  {
   "cell_type": "code",
   "execution_count": 16,
   "metadata": {},
   "outputs": [],
   "source": [
    "activation_fn=tf.nn.relu\n",
    "# Change in dimensions of image after each MaxPool\n",
    "h_l2, w_l2 = int(np.ceil(float(h_in)/float(s))) , int(np.ceil(float(w_in)/float(s))) \n",
    "# Height and width: second encoder/decoder layer\n",
    "h_l3, w_l3 = int(np.ceil(float(h_l2)/float(s))) , int(np.ceil(float(w_l2)/float(s)))\n",
    "# Height and width: third encoder/decoder layer"
   ]
  },
  {
   "cell_type": "code",
   "execution_count": 17,
   "metadata": {},
   "outputs": [],
   "source": [
    "X_noisy = tf.placeholder(tf.float32, (None, h_in, w_in, 1), name='inputs')\n",
    "X = tf.placeholder(tf.float32, (None, h_in, w_in, 1), name='targets')"
   ]
  },
  {
   "cell_type": "code",
   "execution_count": 18,
   "metadata": {},
   "outputs": [],
   "source": [
    "### Encoder\n",
    "conv1 = tf.layers.conv2d(X_noisy, filters[1], (k,k), padding='same',\n",
    "activation=activation_fn)\n",
    "# Output size h_in x w_in x filters[1]\n",
    "maxpool1 = tf.layers.max_pooling2d(conv1, (p,p), (s,s), padding='same')\n",
    "# Output size h_l2 x w_l2 x filters[1]\n",
    "conv2 = tf.layers.conv2d(maxpool1, filters[2], (k,k), padding='same',\n",
    "activation=activation_fn)\n",
    "# Output size h_l2 x w_l2 x filters[2]\n",
    "maxpool2 = tf.layers.max_pooling2d(conv2,(p,p), (s,s), padding='same')\n",
    "# Output size h_l3 x w_l3 x filters[2]\n",
    "conv3 = tf.layers.conv2d(maxpool2,filters[3], (k,k), padding='same',\n",
    "activation=activation_fn)\n",
    "# Output size h_l3 x w_l3 x filters[3]\n",
    "encoded = tf.layers.max_pooling2d(conv3, (p,p), (s,s), padding='same')\n",
    "# Output size h_l3/s x w_l3/s x filters[3] Now 4x4x16"
   ]
  },
  {
   "cell_type": "code",
   "execution_count": 19,
   "metadata": {},
   "outputs": [],
   "source": [
    "### Decoder\n",
    "upsample1 = tf.image.resize_nearest_neighbor(encoded, (h_l3,w_l3))\n",
    "# Output size h_l3 x w_l3 x filters[3]\n",
    "conv4 = tf.layers.conv2d(upsample1, filters[3], (k,k), padding='same',\n",
    "activation=activation_fn)\n",
    "# Output size h_l3 x w_l3 x filters[3]\n",
    "upsample2 = tf.image.resize_nearest_neighbor(conv4, (h_l2,w_l2))\n",
    "# Output size h_l2 x w_l2 x filters[3]\n",
    "conv5 = tf.layers.conv2d(upsample2, filters[2], (k,k), padding='same',\n",
    "activation=activation_fn)\n",
    "# Output size h_l2 x w_l2 x filters[2]\n",
    "upsample3 = tf.image.resize_nearest_neighbor(conv5, (h_in,w_in))\n",
    "# Output size h_in x w_in x filters[2]\n",
    "conv6 = tf.layers.conv2d(upsample3, filters[1], (k,k), padding='same',\n",
    "activation=activation_fn)\n",
    "# Output size h_in x w_in x filters[1]"
   ]
  },
  {
   "cell_type": "code",
   "execution_count": 22,
   "metadata": {},
   "outputs": [],
   "source": [
    "logits = tf.layers.conv2d(conv6, 1, (k,k) , padding='same',activation=None)\n",
    "# Output size h_in x w_in x 1\n",
    "decoded = tf.nn.sigmoid(logits, name='decoded')\n",
    "loss = tf.nn.sigmoid_cross_entropy_with_logits(labels=X, logits=logits)\n",
    "cost = tf.reduce_mean(loss)\n",
    "opt = tf.train.AdamOptimizer(0.001).minimize(cost)"
   ]
  },
  {
   "cell_type": "code",
   "execution_count": 23,
   "metadata": {},
   "outputs": [],
   "source": [
    "sess = tf.Session()"
   ]
  },
  {
   "cell_type": "code",
   "execution_count": 26,
   "metadata": {},
   "outputs": [
    {
     "name": "stdout",
     "output_type": "stream",
     "text": [
      "Epoch: 0/10... Training loss 0.6767485737800598\n",
      "Epoch: 0/10... Training loss 0.2225894331932068\n",
      "Epoch: 0/10... Training loss 0.18781618773937225\n",
      "Epoch: 0/10... Training loss 0.16971313953399658\n",
      "Epoch: 0/10... Training loss 0.1496412605047226\n",
      "Epoch: 0/10... Training loss 0.1478109061717987\n",
      "Epoch: 1/10... Training loss 0.15006062388420105\n",
      "Epoch: 1/10... Training loss 0.13435271382331848\n",
      "Epoch: 1/10... Training loss 0.13160443305969238\n",
      "Epoch: 1/10... Training loss 0.13606193661689758\n",
      "Epoch: 1/10... Training loss 0.1342279016971588\n",
      "Epoch: 1/10... Training loss 0.13157688081264496\n",
      "Epoch: 2/10... Training loss 0.12997321784496307\n",
      "Epoch: 2/10... Training loss 0.13353654742240906\n",
      "Epoch: 2/10... Training loss 0.12536901235580444\n",
      "Epoch: 2/10... Training loss 0.12705086171627045\n",
      "Epoch: 2/10... Training loss 0.12004511803388596\n",
      "Epoch: 2/10... Training loss 0.12642844021320343\n",
      "Epoch: 3/10... Training loss 0.12064056843519211\n",
      "Epoch: 3/10... Training loss 0.1204511970281601\n",
      "Epoch: 3/10... Training loss 0.12180022895336151\n",
      "Epoch: 3/10... Training loss 0.1155296117067337\n",
      "Epoch: 3/10... Training loss 0.12281322479248047\n",
      "Epoch: 3/10... Training loss 0.12520761787891388\n",
      "Epoch: 4/10... Training loss 0.11967656016349792\n",
      "Epoch: 4/10... Training loss 0.10876479744911194\n",
      "Epoch: 4/10... Training loss 0.11617989838123322\n",
      "Epoch: 4/10... Training loss 0.1167471781373024\n",
      "Epoch: 4/10... Training loss 0.1181129664182663\n",
      "Epoch: 4/10... Training loss 0.11966358125209808\n",
      "Epoch: 5/10... Training loss 0.11506357789039612\n",
      "Epoch: 5/10... Training loss 0.1148076131939888\n",
      "Epoch: 5/10... Training loss 0.11705273389816284\n",
      "Epoch: 5/10... Training loss 0.11600115150213242\n",
      "Epoch: 5/10... Training loss 0.11625874787569046\n",
      "Epoch: 5/10... Training loss 0.10988996177911758\n",
      "Epoch: 6/10... Training loss 0.11500445753335953\n",
      "Epoch: 6/10... Training loss 0.11305701732635498\n",
      "Epoch: 6/10... Training loss 0.11282747238874435\n",
      "Epoch: 6/10... Training loss 0.11618950217962265\n",
      "Epoch: 6/10... Training loss 0.11343042552471161\n",
      "Epoch: 6/10... Training loss 0.11762707680463791\n",
      "Epoch: 7/10... Training loss 0.10725107789039612\n",
      "Epoch: 7/10... Training loss 0.11511332541704178\n",
      "Epoch: 7/10... Training loss 0.11630445718765259\n",
      "Epoch: 7/10... Training loss 0.11398021131753922\n",
      "Epoch: 7/10... Training loss 0.10711303353309631\n",
      "Epoch: 7/10... Training loss 0.11462128162384033\n",
      "Epoch: 8/10... Training loss 0.11501609534025192\n",
      "Epoch: 8/10... Training loss 0.11016226559877396\n",
      "Epoch: 8/10... Training loss 0.11079393327236176\n",
      "Epoch: 8/10... Training loss 0.10708243399858475\n",
      "Epoch: 8/10... Training loss 0.10899727791547775\n",
      "Epoch: 8/10... Training loss 0.10966567695140839\n",
      "Epoch: 9/10... Training loss 0.10842706263065338\n",
      "Epoch: 9/10... Training loss 0.11243419349193573\n",
      "Epoch: 9/10... Training loss 0.10431648045778275\n",
      "Epoch: 9/10... Training loss 0.11276102066040039\n",
      "Epoch: 9/10... Training loss 0.1110101193189621\n",
      "Epoch: 9/10... Training loss 0.10762272030115128\n"
     ]
    }
   ],
   "source": [
    "epochs = 10\n",
    "batch_size = 100\n",
    "# Set's how much noise we're adding to the MNIST images\n",
    "noise_factor = 0.5\n",
    "sess.run(tf.global_variables_initializer())\n",
    "err = []\n",
    "for i in range(epochs):\n",
    "    for ii in range(mnist.train.num_examples//batch_size):\n",
    "        batch = mnist.train.next_batch(batch_size)\n",
    "        # Get images from the batch\n",
    "        imgs = batch[0].reshape((-1, h_in, w_in, 1))\n",
    "        # Add random noise to the input images\n",
    "        noisy_imgs = imgs + noise_factor * np.random.randn(*imgs.shape)\n",
    "        # Clip the images to be between 0 and 1\n",
    "        noisy_imgs = np.clip(noisy_imgs, 0., 1.)\n",
    "        # Noisy images as inputs, original images as targets\n",
    "        batch_cost, _ = sess.run([cost, opt], feed_dict={X_noisy: noisy_imgs,X:\n",
    "        imgs})\n",
    "        err.append(batch_cost)\n",
    "        if ii%100 == 0:\n",
    "            print(\"Epoch: {0}/{1}... Training loss {2}\".format(i, epochs, batch_cost))"
   ]
  },
  {
   "cell_type": "code",
   "execution_count": 27,
   "metadata": {},
   "outputs": [
    {
     "data": {
      "text/plain": [
       "Text(0, 0.5, 'Cross Entropy Loss')"
      ]
     },
     "execution_count": 27,
     "metadata": {},
     "output_type": "execute_result"
    },
    {
     "data": {
      "image/png": "[encoded data removed]",
      "text/plain": [
       "<Figure size 432x288 with 1 Axes>"
      ]
     },
     "metadata": {
      "needs_background": "light"
     },
     "output_type": "display_data"
    }
   ],
   "source": [
    "plt.plot(err)\n",
    "plt.xlabel('epochs')\n",
    "plt.ylabel('Cross Entropy Loss')"
   ]
  },
  {
   "cell_type": "code",
   "execution_count": 33,
   "metadata": {},
   "outputs": [
    {
     "data": {
      "image/png": "[encoded data removed]",
      "text/plain": [
       "<Figure size 1440x288 with 20 Axes>"
      ]
     },
     "metadata": {
      "needs_background": "light"
     },
     "output_type": "display_data"
    }
   ],
   "source": [
    "fig, axes = plt.subplots(nrows=2, ncols=10, sharex=True, sharey=True,figsize=(20,4))\n",
    "in_imgs = mnist.test.images[:10]\n",
    "noisy_imgs = in_imgs + noise_factor * np.random.randn(*in_imgs.shape)\n",
    "noisy_imgs = np.clip(noisy_imgs, 0., 1.)\n",
    "reconstructed = sess.run(decoded, feed_dict={X_noisy:\n",
    "noisy_imgs.reshape((10, 28, 28, 1))})\n",
    "for images, row in zip([noisy_imgs, reconstructed], axes):\n",
    "    for img, ax in zip(images, row):\n",
    "        ax.imshow(img.reshape((28, 28)), cmap='Greys_r')\n",
    "        ax.get_xaxis().set_visible(False)\n",
    "        ax.get_yaxis().set_visible(False)"
   ]
  },
  {
   "cell_type": "code",
   "execution_count": 34,
   "metadata": {},
   "outputs": [],
   "source": [
    "sess.close()"
   ]
  }
 ],
 "metadata": {
  "kernelspec": {
   "display_name": "Python 3",
   "language": "python",
   "name": "python3"
  },
  "language_info": {
   "codemirror_mode": {
    "name": "ipython",
    "version": 3
   },
   "file_extension": ".py",
   "mimetype": "text/x-python",
   "name": "python",
   "nbconvert_exporter": "python",
   "pygments_lexer": "ipython3",
   "version": "3.5.2"
  }
 },
 "nbformat": 4,
 "nbformat_minor": 2
}
