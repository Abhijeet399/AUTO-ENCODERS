{
 "cells": [
  {
   "cell_type": "markdown",
   "metadata": {},
   "source": [
    "# Denoising autoencoder"
   ]
  },
  {
   "cell_type": "markdown",
   "metadata": {},
   "source": [
    " The two autoencoders that we have explored in the previous two recipes are examples\n",
    "of Undercomplete Autoencoders because the hidden layer in them has a lower dimension\n",
    "as compared to the input (output) layer. Denoising autoencoder belongs to the class of\n",
    "Overcomplete Autoencoders because it works better when the dimensions of the hidden\n",
    "layer are more than the input layer.\n",
    "A denoising autoencoder learns from a corrupted (noisy) input; it feeds its encoder network\n",
    "the noisy input and then the reconstructed image from the decoder is compared with the\n",
    "original input. The idea is that this will help the network learn how to denoise an input. It\n",
    "will no longer just make a pixel-wise comparison, but in order to denoise, it will learn the\n",
    "information of neighbouring pixels as well."
   ]
  },
  {
   "cell_type": "code",
   "execution_count": 1,
   "metadata": {},
   "outputs": [],
   "source": [
    "import tensorflow as tf\n",
    "import numpy as np\n",
    "from tensorflow.examples.tutorials.mnist import input_data\n",
    "import matplotlib.pyplot as plt\n",
    "import math"
   ]
  },
  {
   "cell_type": "markdown",
   "metadata": {},
   "source": [
    " A denoising autoencoder will also have the KL divergence penalty term; it will differ from\n",
    "the sparse autoencoder of the previous recipe in two main aspects. First, n_hidden , the\n",
    "number of hidden units in the bottleneck layer is more than the number of units in the input\n",
    "layer, m, that is n_hidden > m . Second, the input to the encoder is corrupted input; to do\n",
    "this in TensorFlow, we add the function corrupt"
   ]
  },
  {
   "cell_type": "code",
   "execution_count": 2,
   "metadata": {},
   "outputs": [],
   "source": [
    "def corruption(x, noise_factor = 0.3):\n",
    "    #corruption of the input\n",
    "    noisy_imgs = x + noise_factor * np.random.randn(*x.shape)\n",
    "    noisy_imgs = np.clip(noisy_imgs, 0., 1.)\n",
    "    return noisy_imgs\n",
    "    #Difference between Denoising and previous 2"
   ]
  },
  {
   "cell_type": "code",
   "execution_count": 4,
   "metadata": {},
   "outputs": [
    {
     "name": "stdout",
     "output_type": "stream",
     "text": [
      "Extracting MNIST_data/train-images-idx3-ubyte.gz\n",
      "Extracting MNIST_data/train-labels-idx1-ubyte.gz\n",
      "Extracting MNIST_data/t10k-images-idx3-ubyte.gz\n",
      "Extracting MNIST_data/t10k-labels-idx1-ubyte.gz\n"
     ]
    }
   ],
   "source": [
    "mnist = input_data.read_data_sets(\"MNIST_data/\")\n",
    "trX, trY, teX, teY = mnist.train.images, mnist.train.labels,mnist.test.images, mnist.test.labels"
   ]
  },
  {
   "cell_type": "markdown",
   "metadata": {},
   "source": [
    "Next, we define the main component of this code--the DenoisingAutoEncoder\n",
    "class. The class is very similar to the SparseAutoEncoder class that we made in\n",
    "the previous recipe. Here, we have a placeholder for the noisy image; this noisy\n",
    "input is fed to the encoder. The reconstruction error is now the difference\n",
    "between the original clean image and the output of the decoder when the noisy\n",
    "image is the input. We retain the sparsity penalty term here. The fit function thus\n",
    "takes both the original image and the noisy image as its argument."
   ]
  },
  {
   "cell_type": "code",
   "execution_count": 18,
   "metadata": {},
   "outputs": [],
   "source": [
    "class DenoisingAutoEncoder(object):\n",
    "    def __init__(self, m, n, eta = 0.01):\n",
    "        \"\"\"\n",
    "        m: Number of neurons in input/output layer\n",
    "        n: number of neurons in hidden layer\n",
    "        \"\"\"\n",
    "        self._m = m\n",
    "        self._n = n\n",
    "        self.learning_rate = eta\n",
    "        # Create the Computational graph\n",
    "        # Weights and biases\n",
    "        self._W1 = tf.Variable(tf.random_normal(shape=(self._m,self._n)))\n",
    "        self._W2 = tf.Variable(tf.random_normal(shape=(self._n,self._m)))\n",
    "        self._b1 = tf.Variable(np.zeros(self._n).astype(np.float32))\n",
    "        #bias for hidden layer\n",
    "        self._b2 = tf.Variable(np.zeros(self._m).astype(np.float32)) \n",
    "        #bias for output layer\n",
    "        # Placeholder for inputs\n",
    "        self._X = tf.placeholder('float', [None, self._m])\n",
    "        self._X_noisy = tf.placeholder('float', [None, self._m])\n",
    "        self.y = self.encoder(self._X_noisy)\n",
    "        self.r = self.decoder(self.y)\n",
    "        error = self._X - self.r\n",
    "        self._loss = tf.reduce_mean(tf.pow(error, 2))\n",
    "        #self._loss = tf.reduce_mean(tf.nn.sigmoid_cross_entropy_with_logits(labels=self._X, logits = self.r))\n",
    "        alpha = 0.05\n",
    "        kl_div_loss = tf.reduce_sum(self.kl_div(0.02, tf.reduce_mean(self.y,0)))\n",
    "        loss = self._loss + alpha * kl_div_loss\n",
    "        self._opt = tf.train.AdamOptimizer(self.learning_rate).minimize(loss)\n",
    "    def encoder(self, x):\n",
    "        h = tf.matmul(x, self._W1) + self._b1\n",
    "        return tf.nn.sigmoid(h)\n",
    "    def decoder(self, x):\n",
    "        h = tf.matmul(x, self._W2) + self._b2\n",
    "        return tf.nn.sigmoid(h)\n",
    "    def set_session(self, session):\n",
    "        self.session = session\n",
    "    def reconstruct(self,x):\n",
    "        h = self.encoder(x)\n",
    "        r = self.decoder(h)\n",
    "        return self.session.run(r, feed_dict={self._X: x})\n",
    "    def reduced_dimension(self,x):\n",
    "        h = self.encoder(x)\n",
    "        return self.session.run(h, feed_dict={self._X: x})\n",
    "    def kl_div(self, rho, rho_hat):\n",
    "        term2_num = tf.constant(1.)- rho\n",
    "        term2_den = tf.constant(1.) - rho_hat\n",
    "        kl = self.logfunc(rho,rho_hat) + self.logfunc(term2_num, term2_den)\n",
    "        return kl\n",
    "    def logfunc(self, x1, x2):\n",
    "        return tf.multiply( x1, tf.log(tf.div(x1,x2)))\n",
    "    def corrupt(self,x):\n",
    "        return x * tf.cast(tf.random_uniform(shape=tf.shape(x),minval=0,maxval=2),tf.float32)\n",
    "    def getWeights(self):\n",
    "        return self.session.run([self._W1, self._W2,self._b1, self._b2])\n",
    "    def fit(self, X, Xorg, epochs = 1, batch_size = 100):\n",
    "        N, D = X.shape\n",
    "        num_batches = N // batch_size\n",
    "        obj = []\n",
    "        for i in range(epochs):\n",
    "            #X = shuffle(X)\n",
    "            for j in range(num_batches):\n",
    "                batch = X[j * batch_size: (j * batch_size + batch_size)]\n",
    "                batchO = Xorg[j * batch_size: (j * batch_size + batch_size)]\n",
    "                _, ob = self.session.run([self._opt,self._loss], feed_dict={self._X:batchO, self._X_noisy: batch})\n",
    "                if j % 100 == 0:\n",
    "                    print('training epoch {0} batch {2} cost {1}'.format(i,ob, j))\n",
    "                    obj.append(ob)\n",
    "        return obj"
   ]
  },
  {
   "cell_type": "code",
   "execution_count": 19,
   "metadata": {},
   "outputs": [],
   "source": [
    "n_hidden = 800\n",
    "Xtrain = trX.astype(np.float32)\n",
    "Xtrain_noisy = corruption(Xtrain).astype(np.float32)\n",
    "Xtest = teX.astype(np.float32)\n",
    "#noise = Xtest * np.random.randint(0, 2, Xtest.shape).astype(np.float32)\n",
    "Xtest_noisy = corruption(Xtest).astype(np.float32) \n",
    "#Xtest * (1-0.3)+ noise * (0.3)\n",
    "_, m = Xtrain.shape\n",
    "dae = DenoisingAutoEncoder(m, n_hidden)"
   ]
  },
  {
   "cell_type": "code",
   "execution_count": 20,
   "metadata": {},
   "outputs": [
    {
     "name": "stdout",
     "output_type": "stream",
     "text": [
      "training epoch 0 batch 0 cost 0.46098852157592773\n",
      "training epoch 0 batch 100 cost 0.08825340121984482\n",
      "training epoch 0 batch 200 cost 0.06681940704584122\n",
      "training epoch 0 batch 300 cost 0.059456076472997665\n",
      "training epoch 0 batch 400 cost 0.04974064230918884\n",
      "training epoch 0 batch 500 cost 0.04812672361731529\n",
      "training epoch 1 batch 0 cost 0.04439686983823776\n",
      "training epoch 1 batch 100 cost 0.03856393322348595\n",
      "training epoch 1 batch 200 cost 0.03704196959733963\n",
      "training epoch 1 batch 300 cost 0.03757206350564957\n",
      "training epoch 1 batch 400 cost 0.03398340940475464\n",
      "training epoch 1 batch 500 cost 0.035256847739219666\n",
      "training epoch 2 batch 0 cost 0.03426893800497055\n",
      "training epoch 2 batch 100 cost 0.030588453635573387\n",
      "training epoch 2 batch 200 cost 0.03059295006096363\n",
      "training epoch 2 batch 300 cost 0.032016631215810776\n",
      "training epoch 2 batch 400 cost 0.02949076145887375\n",
      "training epoch 2 batch 500 cost 0.03114391677081585\n",
      "training epoch 3 batch 0 cost 0.030288254842162132\n",
      "training epoch 3 batch 100 cost 0.027838271111249924\n",
      "training epoch 3 batch 200 cost 0.02824420854449272\n",
      "training epoch 3 batch 300 cost 0.030095096677541733\n",
      "training epoch 3 batch 400 cost 0.027662433683872223\n",
      "training epoch 3 batch 500 cost 0.02982872538268566\n",
      "training epoch 4 batch 0 cost 0.028211284428834915\n",
      "training epoch 4 batch 100 cost 0.02652093954384327\n",
      "training epoch 4 batch 200 cost 0.027102723717689514\n",
      "training epoch 4 batch 300 cost 0.02923208475112915\n",
      "training epoch 4 batch 400 cost 0.02674407884478569\n",
      "training epoch 4 batch 500 cost 0.028963804244995117\n",
      "training epoch 5 batch 0 cost 0.027107827365398407\n",
      "training epoch 5 batch 100 cost 0.02611745148897171\n",
      "training epoch 5 batch 200 cost 0.026295945048332214\n",
      "training epoch 5 batch 300 cost 0.028904743492603302\n",
      "training epoch 5 batch 400 cost 0.026138700544834137\n",
      "training epoch 5 batch 500 cost 0.028467504307627678\n",
      "training epoch 6 batch 0 cost 0.026535654440522194\n",
      "training epoch 6 batch 100 cost 0.02609008364379406\n",
      "training epoch 6 batch 200 cost 0.025960775092244148\n",
      "training epoch 6 batch 300 cost 0.0284862220287323\n",
      "training epoch 6 batch 400 cost 0.0256031583994627\n",
      "training epoch 6 batch 500 cost 0.02739650569856167\n",
      "training epoch 7 batch 0 cost 0.026226531714200974\n",
      "training epoch 7 batch 100 cost 0.02600841224193573\n",
      "training epoch 7 batch 200 cost 0.02575099468231201\n",
      "training epoch 7 batch 300 cost 0.028109826147556305\n",
      "training epoch 7 batch 400 cost 0.02504863403737545\n",
      "training epoch 7 batch 500 cost 0.026199359446763992\n",
      "training epoch 8 batch 0 cost 0.025818437337875366\n",
      "training epoch 8 batch 100 cost 0.025769352912902832\n",
      "training epoch 8 batch 200 cost 0.025618448853492737\n",
      "training epoch 8 batch 300 cost 0.02760942094027996\n",
      "training epoch 8 batch 400 cost 0.02465837076306343\n",
      "training epoch 8 batch 500 cost 0.025892013683915138\n",
      "training epoch 9 batch 0 cost 0.02548300474882126\n",
      "training epoch 9 batch 100 cost 0.025251517072319984\n",
      "training epoch 9 batch 200 cost 0.025636766105890274\n",
      "training epoch 9 batch 300 cost 0.02755037322640419\n",
      "training epoch 9 batch 400 cost 0.02447240985929966\n",
      "training epoch 9 batch 500 cost 0.026664214208722115\n"
     ]
    }
   ],
   "source": [
    "#Initialize all variables\n",
    "init = tf.global_variables_initializer()\n",
    "with tf.Session() as sess:\n",
    "    sess.run(init)\n",
    "    dae.set_session(sess)\n",
    "    err = dae.fit(Xtrain_noisy, Xtrain, epochs=10)\n",
    "    out = dae.reconstruct(Xtest_noisy[0:100])\n",
    "    W1, W2, b1, b2 = dae.getWeights()\n",
    "    red = dae.reduced_dimension(Xtrain)"
   ]
  },
  {
   "cell_type": "code",
   "execution_count": 25,
   "metadata": {},
   "outputs": [
    {
     "data": {
      "image/png": "[encoded data removed]",
      "text/plain": [
       "<Figure size 432x288 with 1 Axes>"
      ]
     },
     "metadata": {
      "needs_background": "light"
     },
     "output_type": "display_data"
    },
    {
     "data": {
      "image/png": "[encoded data removed]",
      "text/plain": [
       "<Figure size 1440x288 with 16 Axes>"
      ]
     },
     "metadata": {
      "needs_background": "light"
     },
     "output_type": "display_data"
    }
   ],
   "source": [
    "plt.plot(err)\n",
    "plt.xlabel('epochs')\n",
    "plt.ylabel('Reconstruction Loss (MSE)')\n",
    "# Plotting original and reconstructed images\n",
    "row, col = 2, 8\n",
    "idx = np.random.randint(0, 100, row * col // 2)\n",
    "f, axarr = plt.subplots(row, col, sharex=True, sharey=True, figsize=(20,4))\n",
    "for fig, row in zip([Xtest_noisy,out], axarr):\n",
    "    for i,ax in zip(idx,row):\n",
    "        ax.imshow(fig[i].reshape((28, 28)), cmap='Greys_r')\n",
    "        ax.get_xaxis().set_visible(False)\n",
    "        ax.get_yaxis().set_visible(False)"
   ]
  },
  {
   "cell_type": "code",
   "execution_count": null,
   "metadata": {},
   "outputs": [],
   "source": []
  }
 ],
 "metadata": {
  "kernelspec": {
   "display_name": "Python 3",
   "language": "python",
   "name": "python3"
  },
  "language_info": {
   "codemirror_mode": {
    "name": "ipython",
    "version": 3
   },
   "file_extension": ".py",
   "mimetype": "text/x-python",
   "name": "python",
   "nbconvert_exporter": "python",
   "pygments_lexer": "ipython3",
   "version": "3.5.2"
  }
 },
 "nbformat": 4,
 "nbformat_minor": 2
}
