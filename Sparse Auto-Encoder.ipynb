{
 "cells": [
  {
   "cell_type": "markdown",
   "metadata": {},
   "source": [
    "# SPARSE AUTO-ENCODER"
   ]
  },
  {
   "cell_type": "code",
   "execution_count": 2,
   "metadata": {},
   "outputs": [],
   "source": [
    "import tensorflow as tf\n",
    "import numpy as np\n",
    "from tensorflow.examples.tutorials.mnist import input_data\n",
    "import matplotlib.pyplot as plt\n",
    "#Important Link-https://web.stanford.edu/class/cs294a/sparseAutoencoder.pdf"
   ]
  },
  {
   "cell_type": "code",
   "execution_count": 4,
   "metadata": {},
   "outputs": [
    {
     "name": "stdout",
     "output_type": "stream",
     "text": [
      "Extracting MNIST_data/train-images-idx3-ubyte.gz\n",
      "Extracting MNIST_data/train-labels-idx1-ubyte.gz\n",
      "Extracting MNIST_data/t10k-images-idx3-ubyte.gz\n",
      "Extracting MNIST_data/t10k-labels-idx1-ubyte.gz\n"
     ]
    }
   ],
   "source": [
    "mnist = input_data.read_data_sets(\"MNIST_data/\")\n",
    "trX, trY, teX, teY = mnist.train.images, mnist.train.labels,mnist.test.images, mnist.test.labels"
   ]
  },
  {
   "cell_type": "code",
   "execution_count": 5,
   "metadata": {},
   "outputs": [],
   "source": [
    "def kl_div(self, rho, rho_hat):\n",
    "    term2_num = tf.constant(1.)- rho\n",
    "    term2_den = tf.constant(1.) - rho_hat\n",
    "    kl = self.logfunc(rho,rho_hat) + self.logfunc(term2_num,\n",
    "    term2_den)\n",
    "    return kl\n",
    "def logfunc(self, x1, x2):\n",
    "    return tf.multiply( x1, tf.log(tf.div(x1,x2)))"
   ]
  },
  {
   "cell_type": "code",
   "execution_count": 15,
   "metadata": {},
   "outputs": [],
   "source": [
    "class SparseAutoEncoder(object):\n",
    "    def __init__(self, m, n, eta = 0.01):\n",
    "        \"\"\"\n",
    "        m: Number of neurons in input/output layer\n",
    "        n: number of neurons in hidden layer\n",
    "        \"\"\"\n",
    "        self._m = m\n",
    "        self._n = n\n",
    "        self.learning_rate = eta\n",
    "        # Create the Computational graph\n",
    "        # Weights and biases\n",
    "        self._W1 = tf.Variable(tf.random_normal(shape=(self._m,self._n)))\n",
    "        self._W2 = tf.Variable(tf.random_normal(shape=(self._n,self._m)))\n",
    "        self._b1 = tf.Variable(np.zeros(self._n).astype(np.float32)) \n",
    "        #bias for hidden layer\n",
    "        self._b2 = tf.Variable(np.zeros(self._m).astype(np.float32))\n",
    "        #bias for output layer\n",
    "        \n",
    "        # Placeholder for inputs\n",
    "        self._X = tf.placeholder('float', [None, self._m])\n",
    "        self.y = self.encoder(self._X)\n",
    "        self.r = self.decoder(self.y)\n",
    "        error = self._X - self.r\n",
    "        self._loss = tf.reduce_mean(tf.pow(error, 2))\n",
    "        alpha = 7.5e-5\n",
    "        kl_div_loss = tf.reduce_sum(self.kl_div(0.02,tf.reduce_mean(self.y,0)))\n",
    "        loss = self._loss + alpha * kl_div_loss\n",
    "        self._opt = tf.train.AdamOptimizer(self.learning_rate).minimize(loss)\n",
    "    def encoder(self, x):\n",
    "        h = tf.matmul(x, self._W1) + self._b1\n",
    "        return tf.nn.sigmoid(h)\n",
    "    def decoder(self, x):\n",
    "        h = tf.matmul(x, self._W2) + self._b2\n",
    "        return tf.nn.sigmoid(h)\n",
    "    def set_session(self, session):\n",
    "        self.session = session\n",
    "    def reduced_dimension(self, x):\n",
    "        h = self.encoder(x)\n",
    "        return self.session.run(h, feed_dict={self._X: x})\n",
    "    def reconstruct(self,x):\n",
    "        h = self.encoder(x)\n",
    "        r = self.decoder(h)\n",
    "        return self.session.run(r, feed_dict={self._X: x})\n",
    "    def logfunc(self, x1, x2):\n",
    "        return tf.multiply( x1, tf.log(tf.div(x1,x2)))\n",
    "    def kl_div(self, rho, rho_hat):\n",
    "        term2_num = tf.constant(1.)- rho\n",
    "        term2_den = tf.constant(1.) - rho_hat\n",
    "        kl = self.logfunc(rho,rho_hat) + self.logfunc(term2_num,term2_den)\n",
    "        return kl\n",
    "    def fit(self, X, epochs = 1, batch_size = 100):\n",
    "        N, D = X.shape\n",
    "        num_batches = N // batch_size\n",
    "        obj = []\n",
    "        for i in range(epochs):\n",
    "            #X = shuffle(X)\n",
    "            for j in range(num_batches):\n",
    "                batch = X[j * batch_size: (j * batch_size + batch_size)]\n",
    "                _, ob = self.session.run([self._opt,self._loss],\n",
    "                feed_dict={self._X: batch})\n",
    "                if j % 100 == 0:\n",
    "                    print('training epoch {0} batch {2} cost{1}'.format(i,ob, j))\n",
    "                    obj.append(ob)\n",
    "        return obj"
   ]
  },
  {
   "cell_type": "code",
   "execution_count": 16,
   "metadata": {},
   "outputs": [
    {
     "name": "stdout",
     "output_type": "stream",
     "text": [
      "training epoch 0 batch 0 cost0.42656469345092773\n",
      "training epoch 0 batch 100 cost0.058469489216804504\n",
      "training epoch 0 batch 200 cost0.04237008094787598\n",
      "training epoch 0 batch 300 cost0.03299212455749512\n",
      "training epoch 0 batch 400 cost0.02715848945081234\n",
      "training epoch 0 batch 500 cost0.026042230427265167\n",
      "training epoch 1 batch 0 cost0.02235771343111992\n",
      "training epoch 1 batch 100 cost0.019036704674363136\n",
      "training epoch 1 batch 200 cost0.018531830981373787\n",
      "training epoch 1 batch 300 cost0.0176555085927248\n",
      "training epoch 1 batch 400 cost0.01648739166557789\n",
      "training epoch 1 batch 500 cost0.016723353415727615\n",
      "training epoch 2 batch 0 cost0.01519548986107111\n",
      "training epoch 2 batch 100 cost0.013657109811902046\n",
      "training epoch 2 batch 200 cost0.013093959540128708\n",
      "training epoch 2 batch 300 cost0.013179710134863853\n",
      "training epoch 2 batch 400 cost0.012761322781443596\n",
      "training epoch 2 batch 500 cost0.012688162736594677\n",
      "training epoch 3 batch 0 cost0.011608738452196121\n",
      "training epoch 3 batch 100 cost0.010639604181051254\n",
      "training epoch 3 batch 200 cost0.010102136060595512\n",
      "training epoch 3 batch 300 cost0.01045611035078764\n",
      "training epoch 3 batch 400 cost0.009988262318074703\n",
      "training epoch 3 batch 500 cost0.010045664384961128\n",
      "training epoch 4 batch 0 cost0.00966417696326971\n",
      "training epoch 4 batch 100 cost0.008600376546382904\n",
      "training epoch 4 batch 200 cost0.008696652948856354\n",
      "training epoch 4 batch 300 cost0.008658631704747677\n",
      "training epoch 4 batch 400 cost0.008499590680003166\n",
      "training epoch 4 batch 500 cost0.008677936159074306\n",
      "training epoch 5 batch 0 cost0.008259505964815617\n",
      "training epoch 5 batch 100 cost0.007515640463680029\n",
      "training epoch 5 batch 200 cost0.007554755080491304\n",
      "training epoch 5 batch 300 cost0.0076129199005663395\n",
      "training epoch 5 batch 400 cost0.0074060154147446156\n",
      "training epoch 5 batch 500 cost0.007690540049225092\n",
      "training epoch 6 batch 0 cost0.007342520169913769\n",
      "training epoch 6 batch 100 cost0.006794332526624203\n",
      "training epoch 6 batch 200 cost0.006773666944354773\n",
      "training epoch 6 batch 300 cost0.00703091686591506\n",
      "training epoch 6 batch 400 cost0.00676359049975872\n",
      "training epoch 6 batch 500 cost0.007044551428407431\n",
      "training epoch 7 batch 0 cost0.00684446981176734\n",
      "training epoch 7 batch 100 cost0.0062921191565692425\n",
      "training epoch 7 batch 200 cost0.00622193468734622\n",
      "training epoch 7 batch 300 cost0.00669801514595747\n",
      "training epoch 7 batch 400 cost0.006289470009505749\n",
      "training epoch 7 batch 500 cost0.006572669837623835\n",
      "training epoch 8 batch 0 cost0.006396471057087183\n",
      "training epoch 8 batch 100 cost0.005931582767516375\n",
      "training epoch 8 batch 200 cost0.0059003327041864395\n",
      "training epoch 8 batch 300 cost0.0062956479378044605\n",
      "training epoch 8 batch 400 cost0.005927134770900011\n",
      "training epoch 8 batch 500 cost0.006128998473286629\n",
      "training epoch 9 batch 0 cost0.006142873782664537\n",
      "training epoch 9 batch 100 cost0.005579263437539339\n",
      "training epoch 9 batch 200 cost0.005552946589887142\n",
      "training epoch 9 batch 300 cost0.005955846514552832\n",
      "training epoch 9 batch 400 cost0.005608648061752319\n",
      "training epoch 9 batch 500 cost0.005851483903825283\n"
     ]
    }
   ],
   "source": [
    "Xtrain = trX.astype(np.float32)\n",
    "Xtest = teX.astype(np.float32)\n",
    "_, m = Xtrain.shape\n",
    "sae = SparseAutoEncoder(m, 256)\n",
    "#Initialize all variables\n",
    "init = tf.global_variables_initializer()\n",
    "with tf.Session() as sess:\n",
    "    sess.run(init)\n",
    "    sae.set_session(sess)\n",
    "    err = sae.fit(Xtrain, epochs=10)\n",
    "    out = sae.reconstruct(Xtest[0:100])"
   ]
  },
  {
   "cell_type": "code",
   "execution_count": 11,
   "metadata": {},
   "outputs": [
    {
     "data": {
      "text/plain": [
       "Text(0, 0.5, 'Reconstruction Loss (MSE)')"
      ]
     },
     "execution_count": 11,
     "metadata": {},
     "output_type": "execute_result"
    },
    {
     "data": {
      "image/png": "[encoded data removed]",
      "text/plain": [
       "<Figure size 432x288 with 1 Axes>"
      ]
     },
     "metadata": {
      "needs_background": "light"
     },
     "output_type": "display_data"
    }
   ],
   "source": [
    "plt.plot(err)\n",
    "plt.xlabel('epochs')\n",
    "plt.ylabel('Reconstruction Loss (MSE)')"
   ]
  },
  {
   "cell_type": "code",
   "execution_count": 14,
   "metadata": {},
   "outputs": [
    {
     "data": {
      "image/png": "[encoded data removed]",
      "text/plain": [
       "<Figure size 1440x288 with 16 Axes>"
      ]
     },
     "metadata": {
      "needs_background": "light"
     },
     "output_type": "display_data"
    }
   ],
   "source": [
    "# Plotting original and reconstructed images\n",
    "row, col = 2, 8\n",
    "idx = np.random.randint(0, 100, row * col // 2)\n",
    "f, axarr = plt.subplots(row, col, sharex=True, sharey=True,\n",
    "figsize=(20,4))\n",
    "for fig, row in zip([Xtest,out], axarr):\n",
    "    for i,ax in zip(idx,row):\n",
    "        ax.imshow(fig[i].reshape((28, 28)), cmap='Greys_r')\n",
    "        ax.get_xaxis().set_visible(False)\n",
    "        ax.get_yaxis().set_visible(False)"
   ]
  },
  {
   "cell_type": "code",
   "execution_count": null,
   "metadata": {},
   "outputs": [],
   "source": []
  }
 ],
 "metadata": {
  "kernelspec": {
   "display_name": "Python 3",
   "language": "python",
   "name": "python3"
  },
  "language_info": {
   "codemirror_mode": {
    "name": "ipython",
    "version": 3
   },
   "file_extension": ".py",
   "mimetype": "text/x-python",
   "name": "python",
   "nbconvert_exporter": "python",
   "pygments_lexer": "ipython3",
   "version": "3.5.2"
  }
 },
 "nbformat": 4,
 "nbformat_minor": 2
}
