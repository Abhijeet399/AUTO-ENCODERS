{
 "cells": [
  {
   "cell_type": "markdown",
   "metadata": {},
   "source": [
    "# Stacked autoencoder"
   ]
  },
  {
   "cell_type": "code",
   "execution_count": 1,
   "metadata": {},
   "outputs": [],
   "source": [
    "import tensorflow as tf\n",
    "import numpy as np\n",
    "from tensorflow.examples.tutorials.mnist import input_data\n",
    "import matplotlib.pyplot as plt"
   ]
  },
  {
   "cell_type": "code",
   "execution_count": 3,
   "metadata": {},
   "outputs": [
    {
     "name": "stdout",
     "output_type": "stream",
     "text": [
      "Extracting MNIST_data/train-images-idx3-ubyte.gz\n",
      "Extracting MNIST_data/train-labels-idx1-ubyte.gz\n",
      "Extracting MNIST_data/t10k-images-idx3-ubyte.gz\n",
      "Extracting MNIST_data/t10k-labels-idx1-ubyte.gz\n"
     ]
    }
   ],
   "source": [
    "mnist = input_data.read_data_sets(\"MNIST_data/\")\n",
    "trX, trY, teX, teY = mnist.train.images, mnist.train.labels,mnist.test.images, mnist.test.labels"
   ]
  },
  {
   "cell_type": "code",
   "execution_count": 5,
   "metadata": {},
   "outputs": [],
   "source": [
    "class StackedAutoEncoder(object):\n",
    "    def __init__(self, list1, eta = 0.02):\n",
    "        \"\"\"\n",
    "        list1: [input_dimension, hidden_layer_1, ....,hidden_layer_n]\n",
    "        \"\"\"\n",
    "        N = len(list1)-1\n",
    "        self._m = list1[0]\n",
    "        self.learning_rate = eta\n",
    "        # Create the Computational graph\n",
    "        self._W = {}\n",
    "        self._b = {}\n",
    "        self._X = {}\n",
    "        self._X['0'] = tf.placeholder('float', [None, list1[0]])\n",
    "        for i in range(N):\n",
    "            layer = '{0}'.format(i+1)\n",
    "            print('AutoEncoder Layer {0}: {1} --> {2}'.format(layer, list1[i], list1[i+1]))\n",
    "            self._W['E' + layer] = tf.Variable(tf.random_normal(shape=(list1[i],list1[i+1])),name='WtsEncoder'+layer)\n",
    "            self._b['E'+ layer] =tf.Variable(np.zeros(list1[i+1]).astype(np.float32),name='BiasEncoder'+layer)\n",
    "            self._X[layer] = tf.placeholder('float', [None, list1[i+1]])\n",
    "            self._W['D' + layer] = tf.transpose(self._W['E' + layer]) # Shared weights\n",
    "            self._b['D' + layer] =tf.Variable(np.zeros(list1[i]).astype(np.float32),name='BiasDecoder' +layer)\n",
    "        # Placeholder for inputs\n",
    "        self._X_noisy = tf.placeholder('float', [None, self._m])"
   ]
  },
  {
   "cell_type": "code",
   "execution_count": null,
   "metadata": {},
   "outputs": [],
   "source": []
  }
 ],
 "metadata": {
  "kernelspec": {
   "display_name": "Python 3",
   "language": "python",
   "name": "python3"
  },
  "language_info": {
   "codemirror_mode": {
    "name": "ipython",
    "version": 3
   },
   "file_extension": ".py",
   "mimetype": "text/x-python",
   "name": "python",
   "nbconvert_exporter": "python",
   "pygments_lexer": "ipython3",
   "version": "3.5.2"
  }
 },
 "nbformat": 4,
 "nbformat_minor": 2
}
